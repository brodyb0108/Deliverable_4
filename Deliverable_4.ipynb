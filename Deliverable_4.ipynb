{
  "nbformat": 4,
  "nbformat_minor": 0,
  "metadata": {
    "colab": {
      "provenance": []
    },
    "kernelspec": {
      "name": "python3",
      "display_name": "Python 3"
    },
    "language_info": {
      "name": "python"
    }
  },
  "cells": [
    {
      "cell_type": "code",
      "source": [
        "import numpy as np"
      ],
      "metadata": {
        "id": "sudDM0---Hz9"
      },
      "execution_count": 14,
      "outputs": []
    },
    {
      "cell_type": "code",
      "source": [
        "def random_list(length):\n",
        "  return list (np.random.randint(10,51,length))\n"
      ],
      "metadata": {
        "id": "xZuhBXhd-QjO"
      },
      "execution_count": 12,
      "outputs": []
    },
    {
      "cell_type": "code",
      "source": [
        "def sum_list(first):\n",
        "  return sum(first)\n"
      ],
      "metadata": {
        "id": "qmymAIat-m7q"
      },
      "execution_count": 15,
      "outputs": []
    },
    {
      "cell_type": "code",
      "source": [
        "while True:\n",
        "  try:\n",
        "    num = int(input(\"Please use an integer number between 5 and 15 \"))\n",
        "    if num < 5 or num > 15:\n",
        "      print(\"Invalid input, please try again \")\n",
        "    else:\n",
        "        break\n",
        "  except ValueError:\n",
        "        print (\"Invalid Input, please try again. \")"
      ],
      "metadata": {
        "colab": {
          "base_uri": "https://localhost:8080/"
        },
        "id": "32M31sW4Ac8j",
        "outputId": "164834a6-7e0f-464c-e2cb-2f658efc6914"
      },
      "execution_count": 23,
      "outputs": [
        {
          "name": "stdout",
          "output_type": "stream",
          "text": [
            "Please use an integer number between 5 and 15 5\n"
          ]
        }
      ]
    },
    {
      "cell_type": "code",
      "source": [
        "first = random_list(num)\n",
        "print(\"The elements of the array are: \" , first)"
      ],
      "metadata": {
        "colab": {
          "base_uri": "https://localhost:8080/"
        },
        "id": "_bXYn0CTBi9b",
        "outputId": "6bd3e78d-3291-4066-ea89-34e2f0b2abf4"
      },
      "execution_count": 24,
      "outputs": [
        {
          "output_type": "stream",
          "name": "stdout",
          "text": [
            "The elements of the list are:  [31, 45, 10, 25, 16]\n"
          ]
        }
      ]
    },
    {
      "cell_type": "code",
      "source": [
        "firstsum = sum_list(first)\n",
        "print(\"The sum is: \", firstsum)"
      ],
      "metadata": {
        "colab": {
          "base_uri": "https://localhost:8080/"
        },
        "id": "S0YtQJzpB3gq",
        "outputId": "eec36ae5-3d30-40a5-cb95-c18cf502ea71"
      },
      "execution_count": 25,
      "outputs": [
        {
          "output_type": "stream",
          "name": "stdout",
          "text": [
            "The sum is:  127\n"
          ]
        }
      ]
    }
  ]
}